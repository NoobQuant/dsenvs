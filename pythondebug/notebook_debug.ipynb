{
 "cells": [
  {
   "cell_type": "markdown",
   "id": "d79550b1",
   "metadata": {},
   "source": [
    "Examples on Python debugging in Jupyter notebooks. Tested on Jupyterlab 3.2.1, VSCode 1.66 and Python 3.9.7.\n",
    "\n",
    "## Sources\n",
    "\n",
    " - [Basic support for evaluating code at a breakpoint](https://github.com/jupyterlab/jupyterlab/pull/9930)\n",
    " - [VSCode: Debug a Jupyter Notebook](https://code.visualstudio.com/docs/datascience/jupyter-notebooks#_debug-a-jupyter-notebook)"
   ]
  },
  {
   "cell_type": "code",
   "execution_count": null,
   "id": "2d53577e",
   "metadata": {},
   "outputs": [],
   "source": [
    "import numpy as np\n",
    "import pandas as pd\n",
    "from module import test_function"
   ]
  },
  {
   "cell_type": "markdown",
   "id": "ec642664",
   "metadata": {
    "tags": []
   },
   "source": [
    "## Example 1: Debug notebook code\n",
    "\n",
    "In this cell line 3 has a reference to as missing column. This will throw an error. Activate Jupyterlab debugging mode and set a breakpoint to line 3. Run the cell, and debugging activates. In bottom-right window *\"Source\"* you see the line you are on.\n",
    "\n",
    "Some ways to inspect `df` and figure out what is going on:\n",
    "\n",
    " - Jupyter Lab native solutions\n",
    "   - Jupyter debugger does not have a very good debugger console (at least yet). Currently something similar can be achieved using [evaluate code](https://github.com/jupyterlab/jupyterlab/pull/9930#issuecomment-804890904). On callstack window, click *\"Evaluate code\"*. Evaluate `x = df.copy()`. Now terminate the debugger. There is a new variable `x` in your variables scope which can be inspected in a notebook cell as per usual.\n",
    "   - *Variables* window can also give some quick idae of the variables. Select *\"Table view\"*, and double-click `df`. This opens up a separate tab with information on the data frame.\n",
    " - VSCode solutions\n",
    "   - As per [this](https://code.visualstudio.com/docs/datascience/jupyter-notebooks#_debug-a-jupyter-notebook), two approaches. In both versions, open the *Debug Console* (F1 -> search for \"debug console\").\n",
    "   - Simple: From the RHS of the cell, select *\"Run by line\"*. This starts executing the cell line by line. Variables can be inspected in console under tab *Jupyter: Variables* (e.g., double-click a data frame to open it up in a new tab) and code can be executed in *Debug Console*.\n",
    "   - Full: Set break points to the cell. From the LHS of the cell in dropdown menu, select *Debug Cell*. This starts the debugger. It works as the simple debugger but has richer features enabled by VSCode's typical debugger.\n",
    " - IPython/notebook solution\n",
    "   - Add following lines to the module just above the line where error is thrown. This will open an interactive debugger where you can test variables up to the point of error. To exit the debugger; `quit()`. \n",
    "   ```python\n",
    "    from IPython.core.debugger import set_trace\n",
    "    set_trace()\n",
    "    ```\n",
    "    It seems there also exists a solution via `%debug` magig command, but I don't get it to work properly in this example, so it is not considered."
   ]
  },
  {
   "cell_type": "code",
   "execution_count": null,
   "id": "730a82eb",
   "metadata": {},
   "outputs": [],
   "source": [
    "# For Jupyter Lab solution\n",
    "df = pd.DataFrame(np.random.rand(3, 3), columns=[\"col1\", \"col2\", \"col3\"], index=[1, 2, 1])\n",
    "df = df.groupby(df.index).sum()\n",
    "print(\"Value of col3 at index 2 is {}\".format(df.loc[2, \"col4\"]))"
   ]
  },
  {
   "cell_type": "code",
   "execution_count": null,
   "id": "e457878c",
   "metadata": {},
   "outputs": [],
   "source": [
    "# After `x = df.copy()` has been evaluated in debugger and one has exited the debugger,\n",
    "# one can inspect it in a new cell\n",
    "#display(x)"
   ]
  },
  {
   "cell_type": "code",
   "execution_count": null,
   "id": "470b024e",
   "metadata": {},
   "outputs": [],
   "source": [
    "# For IPython/notebook solution\n",
    "df = pd.DataFrame(np.random.rand(3, 3), columns=[\"col1\", \"col2\", \"col3\"], index=[1, 2, 1])\n",
    "df = df.groupby(df.index).sum()\n",
    "from IPython.core.debugger import set_trace\n",
    "set_trace()\n",
    "print(\"Value of col3 at index 2 is {}\".format(df.loc[2, \"col4\"]))"
   ]
  },
  {
   "cell_type": "markdown",
   "id": "41ebf6bf",
   "metadata": {},
   "source": [
    "## Example 2: Debug module code called from notebook\n",
    "\n",
    "Same problem as in Example 1 but wrapped inside a module function. Some ways to inspect `df` and figure out what is going on:\n",
    "\n",
    " - VSCode solutions\n",
    "   - Set a break point in the module code on line 18. Then similar to Example 1: from LHS select *Debug cell*. Should work as per normal and jump to the breakpoint line in module. If keeps throwing a dialog box with *ipynb*, then set a breakpoint in the cell before entering the module.\n",
    " - IPython/notebook solution\n",
    "   - Same as in Example 1: add the following lines temporarily to yout module code right above the line where error is thrown:\n",
    "   ```python\n",
    "   from IPython.core.debugger import set_trace\n",
    "   set_trace()\n",
    "   ```"
   ]
  },
  {
   "cell_type": "code",
   "execution_count": null,
   "id": "4a2a0ffc",
   "metadata": {},
   "outputs": [],
   "source": [
    "df = test_function()"
   ]
  }
 ],
 "metadata": {
  "kernelspec": {
   "display_name": "dev2021b_py",
   "language": "python",
   "name": "dev2021b_py"
  },
  "language_info": {
   "codemirror_mode": {
    "name": "ipython",
    "version": 3
   },
   "file_extension": ".py",
   "mimetype": "text/x-python",
   "name": "python",
   "nbconvert_exporter": "python",
   "pygments_lexer": "ipython3",
   "version": "3.9.7"
  }
 },
 "nbformat": 4,
 "nbformat_minor": 5
}
